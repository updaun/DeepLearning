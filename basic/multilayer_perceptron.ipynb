{
 "cells": [
  {
   "cell_type": "markdown",
   "metadata": {},
   "source": [
    "Multilayer Perceptron (MLP)\n"
   ]
  },
  {
   "cell_type": "code",
   "execution_count": 2,
   "metadata": {},
   "outputs": [
    {
     "name": "stdout",
     "output_type": "stream",
     "text": [
      "PyTorch version:[1.10.2+cpu].\n",
      "device:[cpu].\n"
     ]
    }
   ],
   "source": [
    "import numpy as np\n",
    "import matplotlib.pyplot as plt\n",
    "import torch\n",
    "import torch.nn as nn\n",
    "import torch.optim as optim\n",
    "import torch.nn.functional as F\n",
    "%matplotlib inline\n",
    "%config InlineBackend.figure_format='retina'\n",
    "print (\"PyTorch version:[%s].\"%(torch.__version__))\n",
    "device = torch.device('cuda:0' if torch.cuda.is_available() else 'cpu')\n",
    "print (\"device:[%s].\"%(device))"
   ]
  },
  {
   "cell_type": "markdown",
   "metadata": {},
   "source": [
    "Dataset"
   ]
  },
  {
   "cell_type": "code",
   "execution_count": 3,
   "metadata": {},
   "outputs": [
    {
     "name": "stdout",
     "output_type": "stream",
     "text": [
      "mnist_train:\n",
      " Dataset MNIST\n",
      "    Number of datapoints: 60000\n",
      "    Root location: ./data/\n",
      "    Split: Train\n",
      "    StandardTransform\n",
      "Transform: ToTensor() \n",
      "\n",
      "mnist_test:\n",
      " Dataset MNIST\n",
      "    Number of datapoints: 10000\n",
      "    Root location: ./data/\n",
      "    Split: Test\n",
      "    StandardTransform\n",
      "Transform: ToTensor() \n",
      "\n",
      "Done.\n"
     ]
    }
   ],
   "source": [
    "from torchvision import datasets,transforms\n",
    "mnist_train = datasets.MNIST(root='./data/',train=True,transform=transforms.ToTensor(),download=True)\n",
    "mnist_test = datasets.MNIST(root='./data/',train=False,transform=transforms.ToTensor(),download=True)\n",
    "print (\"mnist_train:\\n\",mnist_train,\"\\n\")\n",
    "print (\"mnist_test:\\n\",mnist_test,\"\\n\")\n",
    "print (\"Done.\")"
   ]
  },
  {
   "cell_type": "markdown",
   "metadata": {},
   "source": [
    "Data Iterator"
   ]
  },
  {
   "cell_type": "code",
   "execution_count": 4,
   "metadata": {},
   "outputs": [
    {
     "name": "stdout",
     "output_type": "stream",
     "text": [
      "Done.\n"
     ]
    }
   ],
   "source": [
    "BATCH_SIZE = 256\n",
    "train_iter = torch.utils.data.DataLoader(mnist_train,batch_size=BATCH_SIZE,shuffle=True,num_workers=1)\n",
    "test_iter = torch.utils.data.DataLoader(mnist_test,batch_size=BATCH_SIZE,shuffle=True,num_workers=1)\n",
    "print (\"Done.\")"
   ]
  },
  {
   "cell_type": "markdown",
   "metadata": {},
   "source": [
    "model"
   ]
  },
  {
   "cell_type": "code",
   "execution_count": 5,
   "metadata": {},
   "outputs": [
    {
     "name": "stdout",
     "output_type": "stream",
     "text": [
      "Done.\n"
     ]
    }
   ],
   "source": [
    "class MultiLayerPerceptronClass(nn.Module):\n",
    "    \"\"\"\n",
    "        Multilayer Perceptron (MLP) Class\n",
    "    \"\"\"\n",
    "    def __init__(self,name='mlp',xdim=784,hdim=256,ydim=10):\n",
    "        super(MultiLayerPerceptronClass,self).__init__()\n",
    "        self.name = name\n",
    "        self.xdim = xdim\n",
    "        self.hdim = hdim\n",
    "        self.ydim = ydim\n",
    "        self.lin_1 = nn.Linear(\n",
    "            self.xdim, self.hdim\n",
    "        )\n",
    "        self.lin_2 = nn.Linear(\n",
    "            self.hdim, self.ydim\n",
    "        )\n",
    "        self.init_param() # initialize parameters\n",
    "        \n",
    "    def init_param(self):\n",
    "        nn.init.kaiming_normal_(self.lin_1.weight)\n",
    "        nn.init.zeros_(self.lin_1.bias)\n",
    "        nn.init.kaiming_normal_(self.lin_2.weight)\n",
    "        nn.init.zeros_(self.lin_2.bias)\n",
    "\n",
    "    def forward(self,x):\n",
    "        net = x\n",
    "        net = self.lin_1(net)\n",
    "        net = F.relu(net)\n",
    "        net = self.lin_2(net)\n",
    "        return net\n",
    "\n",
    "M = MultiLayerPerceptronClass(name='mlp',xdim=784,hdim=256,ydim=10).to(device)\n",
    "loss = nn.CrossEntropyLoss()\n",
    "optm = optim.Adam(M.parameters(),lr=1e-3)\n",
    "print (\"Done.\")"
   ]
  },
  {
   "cell_type": "markdown",
   "metadata": {},
   "source": [
    "Forward"
   ]
  },
  {
   "cell_type": "code",
   "execution_count": 6,
   "metadata": {},
   "outputs": [
    {
     "name": "stdout",
     "output_type": "stream",
     "text": [
      "x_numpy:\n",
      " [[0.34601886 0.28569191 0.59587525 ... 0.20922972 0.33442531 0.24651613]\n",
      " [0.22029424 0.84834142 0.10868551 ... 0.7817269  0.70391884 0.51643145]]\n",
      "x_torch:\n",
      " tensor([[0.3460, 0.2857, 0.5959,  ..., 0.2092, 0.3344, 0.2465],\n",
      "        [0.2203, 0.8483, 0.1087,  ..., 0.7817, 0.7039, 0.5164]])\n",
      "y_torch:\n",
      " tensor([[ 0.0582,  0.8428,  0.0754,  0.6990, -0.0954,  0.8835, -0.9078, -0.8963,\n",
      "          0.1902, -1.6016],\n",
      "        [ 0.9922,  0.3032, -0.4831,  0.4612, -0.0711,  0.4682, -0.3947, -0.4740,\n",
      "         -0.3051, -1.5428]], grad_fn=<AddmmBackward0>)\n",
      "y_numpy:\n",
      " [[ 0.05816746  0.84280574  0.07543868  0.6990342  -0.09536606  0.88352305\n",
      "  -0.9078485  -0.8962981   0.19017981 -1.6015987 ]\n",
      " [ 0.9921541   0.3031648  -0.48307425  0.46120447 -0.07113236  0.4682096\n",
      "  -0.39467955 -0.4739995  -0.30514264 -1.5427563 ]]\n"
     ]
    }
   ],
   "source": [
    "x_numpy = np.random.rand(2,784)\n",
    "x_torch = torch.from_numpy(x_numpy).float().to(device)\n",
    "# y_torch = M.forward(x_torch) # forward path\n",
    "y_torch = M(x_torch) # forward path\n",
    "y_numpy = y_torch.detach().cpu().numpy() # torch tensor to numpy array\n",
    "print (\"x_numpy:\\n\",x_numpy)\n",
    "print (\"x_torch:\\n\",x_torch)\n",
    "print (\"y_torch:\\n\",y_torch)\n",
    "print (\"y_numpy:\\n\",y_numpy)"
   ]
  },
  {
   "cell_type": "markdown",
   "metadata": {},
   "source": [
    "parameters"
   ]
  },
  {
   "cell_type": "code",
   "execution_count": 7,
   "metadata": {},
   "outputs": [
    {
     "name": "stdout",
     "output_type": "stream",
     "text": [
      "[0] name:[lin_1.weight] shape:[(256, 784)].\n",
      "    val:[-0.131  0.018  0.083 -0.019  0.1  ]\n",
      "[1] name:[lin_1.bias] shape:[(256,)].\n",
      "    val:[0. 0. 0. 0. 0.]\n",
      "[2] name:[lin_2.weight] shape:[(10, 256)].\n",
      "    val:[ 0.09   0.001 -0.036  0.008 -0.041]\n",
      "[3] name:[lin_2.bias] shape:[(10,)].\n",
      "    val:[0. 0. 0. 0. 0.]\n",
      "Total number of parameters:[203,530].\n"
     ]
    }
   ],
   "source": [
    "np.set_printoptions(precision=3)\n",
    "n_param = 0\n",
    "for p_idx,(param_name,param) in enumerate(M.named_parameters()):\n",
    "    param_numpy = param.detach().cpu().numpy()\n",
    "    n_param += len(param_numpy.reshape(-1))\n",
    "    print (\"[%d] name:[%s] shape:[%s].\"%(p_idx,param_name,param_numpy.shape))\n",
    "    print (\"    val:%s\"%(param_numpy.reshape(-1)[:5]))\n",
    "print (\"Total number of parameters:[%s].\"%(format(n_param,',d')))"
   ]
  },
  {
   "cell_type": "markdown",
   "metadata": {},
   "source": [
    "Evaluation Function"
   ]
  },
  {
   "cell_type": "code",
   "execution_count": 8,
   "metadata": {},
   "outputs": [
    {
     "name": "stdout",
     "output_type": "stream",
     "text": [
      "Done\n"
     ]
    }
   ],
   "source": [
    "def func_eval(model,data_iter,device):\n",
    "    with torch.no_grad():\n",
    "        model.eval() # evaluate (affects DropOut and BN)\n",
    "        n_total,n_correct = 0,0\n",
    "        for batch_in,batch_out in data_iter:\n",
    "            y_trgt = batch_out.to(device)\n",
    "            model_pred = model(\n",
    "                batch_in.view(-1, 28*28).to(device)\n",
    "            )\n",
    "            _,y_pred = torch.max(model_pred.data,1)\n",
    "            n_correct += (\n",
    "                y_pred==y_trgt\n",
    "            ).sum().item()\n",
    "            n_total += batch_in.size(0)\n",
    "        val_accr = (n_correct/n_total)\n",
    "        model.train() # back to train mode \n",
    "    return val_accr\n",
    "print (\"Done\")"
   ]
  },
  {
   "cell_type": "markdown",
   "metadata": {},
   "source": [
    "Initial Evaluation"
   ]
  },
  {
   "cell_type": "code",
   "execution_count": 9,
   "metadata": {},
   "outputs": [
    {
     "name": "stdout",
     "output_type": "stream",
     "text": [
      "train_accr:[0.118] test_accr:[0.125].\n"
     ]
    }
   ],
   "source": [
    "M.init_param() # initialize parameters\n",
    "train_accr = func_eval(M,train_iter,device)\n",
    "test_accr = func_eval(M,test_iter,device)\n",
    "print (\"train_accr:[%.3f] test_accr:[%.3f].\"%(train_accr,test_accr))"
   ]
  },
  {
   "cell_type": "markdown",
   "metadata": {},
   "source": [
    "Train"
   ]
  },
  {
   "cell_type": "code",
   "execution_count": 10,
   "metadata": {},
   "outputs": [
    {
     "name": "stdout",
     "output_type": "stream",
     "text": [
      "Start training.\n",
      "epoch:[0] loss:[0.382] train_accr:[0.943] test_accr:[0.943].\n",
      "epoch:[1] loss:[0.168] train_accr:[0.965] test_accr:[0.961].\n",
      "epoch:[2] loss:[0.118] train_accr:[0.975] test_accr:[0.968].\n",
      "epoch:[3] loss:[0.089] train_accr:[0.980] test_accr:[0.972].\n",
      "epoch:[4] loss:[0.071] train_accr:[0.984] test_accr:[0.975].\n",
      "epoch:[5] loss:[0.059] train_accr:[0.989] test_accr:[0.977].\n",
      "epoch:[6] loss:[0.048] train_accr:[0.991] test_accr:[0.978].\n",
      "epoch:[7] loss:[0.040] train_accr:[0.992] test_accr:[0.979].\n",
      "epoch:[8] loss:[0.033] train_accr:[0.995] test_accr:[0.980].\n",
      "epoch:[9] loss:[0.027] train_accr:[0.995] test_accr:[0.980].\n",
      "Done\n"
     ]
    }
   ],
   "source": [
    "print (\"Start training.\")\n",
    "M.init_param() # initialize parameters\n",
    "M.train()\n",
    "EPOCHS,print_every = 10,1\n",
    "for epoch in range(EPOCHS):\n",
    "    loss_val_sum = 0\n",
    "    for batch_in,batch_out in train_iter:\n",
    "        # Forward path\n",
    "        y_pred = M.forward(batch_in.view(-1, 28*28).to(device))\n",
    "        loss_out = loss(y_pred,batch_out.to(device))\n",
    "        # Update\n",
    "        optm.zero_grad()      # reset gradient \n",
    "        loss_out.backward()      # backpropagate\n",
    "        optm.step()      # optimizer update\n",
    "        loss_val_sum += loss_out\n",
    "    loss_val_avg = loss_val_sum/len(train_iter)\n",
    "    # Print\n",
    "    if ((epoch%print_every)==0) or (epoch==(EPOCHS-1)):\n",
    "        train_accr = func_eval(M,train_iter,device)\n",
    "        test_accr = func_eval(M,test_iter,device)\n",
    "        print (\"epoch:[%d] loss:[%.3f] train_accr:[%.3f] test_accr:[%.3f].\"%\n",
    "               (epoch,loss_val_avg,train_accr,test_accr))\n",
    "print (\"Done\")  "
   ]
  },
  {
   "cell_type": "markdown",
   "metadata": {},
   "source": [
    "Test"
   ]
  },
  {
   "cell_type": "code",
   "execution_count": 11,
   "metadata": {},
   "outputs": [
    {
     "data": {
      "image/png": "[encoded data removed]",
      "text/plain": [
       "<Figure size 720x720 with 25 Axes>"
      ]
     },
     "metadata": {
      "image/png": {
       "height": 573,
       "width": 569
      },
      "needs_background": "light"
     },
     "output_type": "display_data"
    },
    {
     "name": "stdout",
     "output_type": "stream",
     "text": [
      "Done\n"
     ]
    }
   ],
   "source": [
    "n_sample = 25\n",
    "sample_indices = np.random.choice(len(mnist_test.targets), n_sample, replace=False)\n",
    "test_x = mnist_test.data[sample_indices]\n",
    "test_y = mnist_test.targets[sample_indices]\n",
    "with torch.no_grad():\n",
    "    y_pred = M.forward(test_x.view(-1, 28*28).type(torch.float).to(device)/255.)\n",
    "y_pred = y_pred.argmax(axis=1)\n",
    "plt.figure(figsize=(10,10))\n",
    "for idx in range(n_sample):\n",
    "    plt.subplot(5, 5, idx+1)\n",
    "    plt.imshow(test_x[idx], cmap='gray')\n",
    "    plt.axis('off')\n",
    "    plt.title(\"Pred:%d, Label:%d\"%(y_pred[idx],test_y[idx]))\n",
    "plt.show()    \n",
    "print (\"Done\")"
   ]
  },
  {
   "cell_type": "code",
   "execution_count": null,
   "metadata": {},
   "outputs": [],
   "source": []
  }
 ],
 "metadata": {
  "interpreter": {
   "hash": "6d46af94c2bbce495f1e668725902fa517c90b1782bcfe2fce0dd9868df553d3"
  },
  "kernelspec": {
   "display_name": "Python 3.9.7 ('base')",
   "language": "python",
   "name": "python3"
  },
  "language_info": {
   "codemirror_mode": {
    "name": "ipython",
    "version": 3
   },
   "file_extension": ".py",
   "mimetype": "text/x-python",
   "name": "python",
   "nbconvert_exporter": "python",
   "pygments_lexer": "ipython3",
   "version": "3.9.7"
  },
  "orig_nbformat": 4
 },
 "nbformat": 4,
 "nbformat_minor": 2
}
