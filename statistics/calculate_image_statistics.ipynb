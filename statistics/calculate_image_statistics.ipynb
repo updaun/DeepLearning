{
 "cells": [
  {
   "cell_type": "code",
   "execution_count": 1,
   "metadata": {},
   "outputs": [],
   "source": [
    "import numpy as np\n",
    "from PIL import Image\n",
    "import os"
   ]
  },
  {
   "cell_type": "code",
   "execution_count": 2,
   "metadata": {},
   "outputs": [],
   "source": [
    "data_dir = \"/opt/ml/detection/dataset/train\"\n",
    "image_paths = []"
   ]
  },
  {
   "cell_type": "code",
   "execution_count": 9,
   "metadata": {},
   "outputs": [
    {
     "name": "stdout",
     "output_type": "stream",
     "text": [
      "4883\n"
     ]
    }
   ],
   "source": [
    "profiles = os.listdir(data_dir)\n",
    "for profile in profiles:\n",
    "    if profile.startswith(\".\"):  # \".\" 로 시작하는 파일은 무시합니다\n",
    "        continue\n",
    "\n",
    "    image_paths.append(os.path.join(data_dir, profile))\n",
    "    \n",
    "print(len(image_paths))"
   ]
  },
  {
   "cell_type": "code",
   "execution_count": 10,
   "metadata": {},
   "outputs": [
    {
     "name": "stdout",
     "output_type": "stream",
     "text": [
      "[0.48490459 0.46038158 0.43166834]\n",
      "[0.53942941 0.51570211 0.49422656]\n"
     ]
    }
   ],
   "source": [
    "sums = []\n",
    "squared = []\n",
    "for image_path in image_paths:\n",
    "    image = np.array(Image.open(image_path)).astype(np.int32)\n",
    "    sums.append(image.mean(axis=(0, 1)))\n",
    "    squared.append((image ** 2).mean(axis=(0, 1)))\n",
    "\n",
    "mean = np.mean(sums, axis=0) / 255\n",
    "std = (np.mean(squared, axis=0) - mean ** 2) ** 0.5 / 255\n",
    "\n",
    "print(mean)\n",
    "print(std)"
   ]
  },
  {
   "cell_type": "code",
   "execution_count": 11,
   "metadata": {},
   "outputs": [
    {
     "name": "stdout",
     "output_type": "stream",
     "text": [
      "4871\n"
     ]
    }
   ],
   "source": [
    "test_data_dir = \"/opt/ml/detection/dataset/test\"\n",
    "test_image_paths = []\n",
    "\n",
    "profiles = os.listdir(test_data_dir)\n",
    "for profile in profiles:\n",
    "    test_image_paths.append(os.path.join(test_data_dir, profile))\n",
    "    \n",
    "print(len(test_image_paths))"
   ]
  },
  {
   "cell_type": "code",
   "execution_count": 12,
   "metadata": {},
   "outputs": [
    {
     "name": "stdout",
     "output_type": "stream",
     "text": [
      "[0.48342839 0.45935092 0.43051403]\n",
      "[0.53841915 0.51521523 0.49378081]\n"
     ]
    }
   ],
   "source": [
    "sums = []\n",
    "squared = []\n",
    "for image_path in test_image_paths:\n",
    "    image = np.array(Image.open(image_path)).astype(np.int32)\n",
    "    sums.append(image.mean(axis=(0, 1)))\n",
    "    squared.append((image ** 2).mean(axis=(0, 1)))\n",
    "\n",
    "mean = np.mean(sums, axis=0) / 255\n",
    "std = (np.mean(squared, axis=0) - mean ** 2) ** 0.5 / 255\n",
    "\n",
    "print(mean)\n",
    "print(std)"
   ]
  },
  {
   "cell_type": "code",
   "execution_count": 18,
   "metadata": {},
   "outputs": [
    {
     "name": "stdout",
     "output_type": "stream",
     "text": [
      "train_data_mean :  [123.65067045, 117.3973029, 110.0754267]\n",
      "train_data_std :  [137.55449955, 131.50403805, 126.0277728]\n"
     ]
    }
   ],
   "source": [
    "train_data_mean = [0.48490459 * 255, 0.46038158 * 255, 0.43166834 * 255]\n",
    "train_data_std = [0.53942941 * 255, 0.51570211 * 255, 0.49422656 * 255]\n",
    "print(\"train_data_mean : \", train_data_mean)\n",
    "print(\"train_data_std : \", train_data_std)"
   ]
  },
  {
   "cell_type": "code",
   "execution_count": 19,
   "metadata": {},
   "outputs": [
    {
     "name": "stdout",
     "output_type": "stream",
     "text": [
      "test_data_mean :  [123.27423945, 117.1344846, 109.78107765]\n",
      "test_data_std :  [137.29688324999998, 131.37988365, 125.91410655]\n"
     ]
    }
   ],
   "source": [
    "test_data_mean = [0.48342839 * 255, 0.45935092 * 255, 0.43051403 * 255]\n",
    "test_data_std = [0.53841915 * 255, 0.51521523 * 255, 0.49378081 * 255]\n",
    "print(\"test_data_mean : \", test_data_mean)\n",
    "print(\"test_data_std : \", test_data_std)"
   ]
  },
  {
   "cell_type": "code",
   "execution_count": null,
   "metadata": {},
   "outputs": [],
   "source": []
  }
 ],
 "metadata": {
  "interpreter": {
   "hash": "b94c6de4bce9a87a354a5fa9998691adc0532adddb9d4140f5ba941d00b01fae"
  },
  "kernelspec": {
   "display_name": "Python 3.7.11 ('detection')",
   "language": "python",
   "name": "python3"
  },
  "language_info": {
   "codemirror_mode": {
    "name": "ipython",
    "version": 3
   },
   "file_extension": ".py",
   "mimetype": "text/x-python",
   "name": "python",
   "nbconvert_exporter": "python",
   "pygments_lexer": "ipython3",
   "version": "3.7.11"
  },
  "orig_nbformat": 4
 },
 "nbformat": 4,
 "nbformat_minor": 2
}
