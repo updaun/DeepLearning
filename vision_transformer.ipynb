{
 "cells": [
  {
   "cell_type": "code",
   "execution_count": 8,
   "metadata": {},
   "outputs": [],
   "source": [
    "import torch\n",
    "import torch.nn as nn\n",
    "from torch import Tensor\n",
    "from torchsummary import summary\n",
    "\n",
    "import torch.optim as optim\n",
    "from torch.optim import lr_scheduler\n",
    "\n",
    "import torchvision.datasets as dset\n",
    "import torchvision.transforms as T\n",
    "from torchvision.transforms import Compose, Resize, ToTensor\n",
    "from torch.utils.data import DataLoader\n",
    "from torch.utils.data import sampler\n",
    "\n",
    "import numpy as np\n",
    "import os\n",
    "import copy\n",
    "import cv2\n",
    "import matplotlib.pyplot as plt\n",
    "from tqdm import tqdm\n",
    "\n",
    "device = torch.device('cuda' if torch.cuda.is_available() else 'cpu')\n",
    "dtype = torch.long\n",
    "\n",
    "from einops import rearrange, repeat, reduce\n",
    "from einops.layers.torch import Rearrange, Reduce"
   ]
  },
  {
   "cell_type": "code",
   "execution_count": 9,
   "metadata": {},
   "outputs": [
    {
     "name": "stdout",
     "output_type": "stream",
     "text": [
      "Downloading http://yann.lecun.com/exdb/mnist/train-images-idx3-ubyte.gz\n"
     ]
    },
    {
     "name": "stderr",
     "output_type": "stream",
     "text": [
      "1.2%"
     ]
    },
    {
     "name": "stdout",
     "output_type": "stream",
     "text": [
      "Downloading http://yann.lecun.com/exdb/mnist/train-images-idx3-ubyte.gz to data\\MNIST\\raw\\train-images-idx3-ubyte.gz\n"
     ]
    },
    {
     "name": "stderr",
     "output_type": "stream",
     "text": [
      "100.0%\n"
     ]
    },
    {
     "name": "stdout",
     "output_type": "stream",
     "text": [
      "Extracting data\\MNIST\\raw\\train-images-idx3-ubyte.gz to data\\MNIST\\raw\n",
      "\n",
      "Downloading http://yann.lecun.com/exdb/mnist/train-labels-idx1-ubyte.gz\n"
     ]
    },
    {
     "name": "stderr",
     "output_type": "stream",
     "text": [
      "102.8%"
     ]
    },
    {
     "name": "stdout",
     "output_type": "stream",
     "text": [
      "Downloading http://yann.lecun.com/exdb/mnist/train-labels-idx1-ubyte.gz to data\\MNIST\\raw\\train-labels-idx1-ubyte.gz\n",
      "Extracting data\\MNIST\\raw\\train-labels-idx1-ubyte.gz to data\\MNIST\\raw\n",
      "\n",
      "Downloading http://yann.lecun.com/exdb/mnist/t10k-images-idx3-ubyte.gz\n"
     ]
    },
    {
     "name": "stderr",
     "output_type": "stream",
     "text": [
      "\n",
      "9.6%"
     ]
    },
    {
     "name": "stdout",
     "output_type": "stream",
     "text": [
      "Downloading http://yann.lecun.com/exdb/mnist/t10k-images-idx3-ubyte.gz to data\\MNIST\\raw\\t10k-images-idx3-ubyte.gz\n"
     ]
    },
    {
     "name": "stderr",
     "output_type": "stream",
     "text": [
      "100.0%\n"
     ]
    },
    {
     "name": "stdout",
     "output_type": "stream",
     "text": [
      "Extracting data\\MNIST\\raw\\t10k-images-idx3-ubyte.gz to data\\MNIST\\raw\n",
      "\n",
      "Downloading http://yann.lecun.com/exdb/mnist/t10k-labels-idx1-ubyte.gz\n"
     ]
    },
    {
     "name": "stderr",
     "output_type": "stream",
     "text": [
      "112.7%"
     ]
    },
    {
     "name": "stdout",
     "output_type": "stream",
     "text": [
      "Downloading http://yann.lecun.com/exdb/mnist/t10k-labels-idx1-ubyte.gz to data\\MNIST\\raw\\t10k-labels-idx1-ubyte.gz\n",
      "Extracting data\\MNIST\\raw\\t10k-labels-idx1-ubyte.gz to data\\MNIST\\raw\n",
      "\n"
     ]
    },
    {
     "name": "stderr",
     "output_type": "stream",
     "text": [
      "\n"
     ]
    }
   ],
   "source": [
    "transform = T.Compose([\n",
    "                T.ToTensor()\n",
    "            ])\n",
    "\n",
    "dataset_train = dset.MNIST('data', train=True, download=True, transform=transform)\n",
    "dataset_test = dset.MNIST('data', train=False, download=True, transform=transform)"
   ]
  },
  {
   "cell_type": "code",
   "execution_count": 10,
   "metadata": {},
   "outputs": [
    {
     "data": {
      "text/plain": [
       "torch.Size([1, 1, 28, 28])"
      ]
     },
     "execution_count": 10,
     "metadata": {},
     "output_type": "execute_result"
    },
    {
     "data": {
      "image/png": "[encoded data removed]",
      "text/plain": [
       "<Figure size 432x288 with 1 Axes>"
      ]
     },
     "metadata": {
      "needs_background": "light"
     },
     "output_type": "display_data"
    }
   ],
   "source": [
    "x = dataset_train[1][0]\n",
    "\n",
    "plt.imshow( x[0], cmap='gray' )\n",
    "x = x.unsqueeze(0) # add batch dim\n",
    "x.size()"
   ]
  },
  {
   "cell_type": "code",
   "execution_count": 11,
   "metadata": {},
   "outputs": [
    {
     "data": {
      "text/plain": [
       "torch.Size([1, 50, 16])"
      ]
     },
     "execution_count": 11,
     "metadata": {},
     "output_type": "execute_result"
    }
   ],
   "source": [
    "class image_embedding(nn.Module):\n",
    "  def __init__(self, in_channels: int = 3, img_size: int = 224, patch_size: int = 16, emb_dim: int = 16*16*3):\n",
    "    super().__init__()\n",
    "\n",
    "    self.rearrange = Rearrange('b c (num_w p1) (num_h p2) -> b (num_w num_h) (p1 p2 c) ', p1=patch_size, p2=patch_size)\n",
    "    self.linear = nn.Linear(in_channels * patch_size * patch_size, emb_dim)\n",
    "\n",
    "    self.cls_token = nn.Parameter(torch.randn(1, 1, emb_dim))\n",
    "    \n",
    "    n_patches = img_size * img_size // patch_size**2\n",
    "    self.positions = nn.Parameter(torch.randn(n_patches + 1, emb_dim))\n",
    "\n",
    "  def forward(self, x):\n",
    "    batch, channel, width, height = x.shape\n",
    "\n",
    "    x = self.rearrange(x) # flatten patches \n",
    "    x = self.linear(x) # embedded patches \n",
    "\n",
    "    # ================ ToDo1 ================ #\n",
    "    c = repeat(self.cls_token, '() n d -> b n d', b=batch)\n",
    "    x = torch.cat((c, x), dim=1)\n",
    "    x = x + self.positions\n",
    "    # ======================================= #\n",
    "    return x\n",
    "\n",
    "emb = image_embedding(1, 28, 4, 4*4)(x)\n",
    "emb.shape"
   ]
  },
  {
   "cell_type": "code",
   "execution_count": 12,
   "metadata": {},
   "outputs": [
    {
     "name": "stdout",
     "output_type": "stream",
     "text": [
      "torch.Size([1, 50, 16]) torch.Size([1, 50, 16]) torch.Size([1, 50, 16])\n",
      "torch.Size([1, 4, 50, 4]) torch.Size([1, 4, 4, 50]) torch.Size([1, 4, 50, 4])\n",
      "torch.Size([1, 4, 50, 50])\n",
      "torch.Size([1, 4, 50, 50])\n",
      "torch.Size([1, 50, 16])\n"
     ]
    },
    {
     "data": {
      "text/plain": [
       "(torch.Size([1, 50, 16]), torch.Size([1, 4, 50, 50]))"
      ]
     },
     "execution_count": 12,
     "metadata": {},
     "output_type": "execute_result"
    }
   ],
   "source": [
    "class multi_head_attention(nn.Module):\n",
    "    def __init__(self, emb_dim: int = 16*16*3, num_heads: int = 8, dropout_ratio: float = 0.2, verbose = False, **kwargs):\n",
    "        super().__init__()\n",
    "        self.v = verbose\n",
    "\n",
    "        self.emb_dim = emb_dim \n",
    "        self.num_heads = num_heads \n",
    "        self.scaling = (self.emb_dim // num_heads) ** -0.5\n",
    "        \n",
    "        self.value = nn.Linear(emb_dim, emb_dim)\n",
    "        self.key = nn.Linear(emb_dim, emb_dim)\n",
    "        self.query = nn.Linear(emb_dim, emb_dim)\n",
    "        self.att_drop = nn.Dropout(dropout_ratio)\n",
    "\n",
    "        self.linear = nn.Linear(emb_dim, emb_dim)\n",
    "                \n",
    "    def forward(self, x: Tensor) -> Tensor:\n",
    "        # query, key, value\n",
    "        Q = self.query(x)\n",
    "        K = self.key(x)\n",
    "        V = self.value(x)\n",
    "        if self.v: print(Q.size(), K.size(), V.size()) \n",
    "\n",
    "        # q = k = v = patch_size**2 + 1 & h * d = emb_dim\n",
    "        Q = rearrange(Q, 'b q (h d) -> b h q d', h=self.num_heads)\n",
    "        K = rearrange(K, 'b k (h d) -> b h d k', h=self.num_heads)\n",
    "        V = rearrange(V, 'b v (h d) -> b h v d', h=self.num_heads)\n",
    "        if self.v: print(Q.size(), K.size(), V.size()) \n",
    "\n",
    "        ## scaled dot-product\n",
    "        weight = torch.matmul(Q, K) \n",
    "        weight = weight * self.scaling\n",
    "        if self.v: print(weight.size()) \n",
    "        \n",
    "        attention = torch.softmax(weight, dim=-1)\n",
    "        attention = self.att_drop(attention) \n",
    "        if self.v: print(attention.size())\n",
    "\n",
    "        context = torch.matmul(attention, V) \n",
    "        context = rearrange(context, 'b h q d -> b q (h d)')\n",
    "        if self.v: print(context.size())\n",
    "\n",
    "        x = self.linear(context)\n",
    "        return x , attention\n",
    "\n",
    "feat, att = multi_head_attention(4*4, 4, verbose=True)(emb)\n",
    "feat.shape, att.shape"
   ]
  },
  {
   "cell_type": "code",
   "execution_count": 13,
   "metadata": {},
   "outputs": [],
   "source": [
    "class mlp_block(nn.Module):\n",
    "    def __init__(self, emb_dim: int = 16*16*3, forward_dim: int = 4, dropout_ratio: float = 0.2, **kwargs):\n",
    "        super().__init__()\n",
    "        self.linear_1 = nn.Linear(emb_dim, forward_dim * emb_dim)\n",
    "        self.dropout = nn.Dropout(dropout_ratio)\n",
    "        self.linear_2 = nn.Linear(forward_dim * emb_dim, emb_dim)\n",
    "        \n",
    "    def forward(self, x):\n",
    "        x = self.linear_1(x)\n",
    "        x = nn.functional.gelu(x)\n",
    "        x = self.dropout(x) \n",
    "        x = self.linear_2(x)\n",
    "        return x"
   ]
  },
  {
   "cell_type": "code",
   "execution_count": 14,
   "metadata": {},
   "outputs": [
    {
     "data": {
      "text/plain": [
       "(torch.Size([1, 50, 16]), torch.Size([1, 2, 50, 50]))"
      ]
     },
     "execution_count": 14,
     "metadata": {},
     "output_type": "execute_result"
    }
   ],
   "source": [
    "class encoder_block(nn.Sequential):\n",
    "    def __init__(self, emb_dim:int = 16*16*3, num_heads:int = 8, forward_dim: int = 4, dropout_ratio:float = 0.2):\n",
    "        super().__init__()\n",
    "\n",
    "        self.norm_1 = nn.LayerNorm(emb_dim)\n",
    "        self.mha = multi_head_attention(emb_dim, num_heads, dropout_ratio)\n",
    "\n",
    "        self.norm_2 = nn.LayerNorm(emb_dim)\n",
    "        self.mlp = mlp_block(emb_dim, forward_dim, dropout_ratio)\n",
    "\n",
    "        self.residual_dropout = nn.Dropout(dropout_ratio)\n",
    "\n",
    "    def forward(self, x):\n",
    "        # ================ ToDo2 ================ #\n",
    "        x_ = self.norm_1(x)\n",
    "        x_, attention = self.mha(x_)\n",
    "        x = x_ + self.residual_dropout(x)\n",
    "\n",
    "        x_ = self.norm_2(x)\n",
    "        x_ = self.mlp(x_)\n",
    "        x = x_ + self.residual_dropout(x)\n",
    "        # ======================================= #\n",
    "        return x, attention\n",
    "        \n",
    "feat, att = encoder_block(4*4, 2, 4)(emb)\n",
    "feat.shape, att.shape"
   ]
  },
  {
   "cell_type": "code",
   "execution_count": 15,
   "metadata": {},
   "outputs": [
    {
     "data": {
      "text/plain": [
       "(torch.Size([1, 10]), torch.Size([1, 2, 50, 50]))"
      ]
     },
     "execution_count": 15,
     "metadata": {},
     "output_type": "execute_result"
    }
   ],
   "source": [
    "class vision_transformer(nn.Module):\n",
    "    \"\"\" Vision Transformer model\n",
    "    classifying input images (x) into classes\n",
    "    \"\"\"\n",
    "    def __init__(self, in_channel: int = 3, img_size:int = 224, \n",
    "                 patch_size: int = 16, emb_dim:int = 16*16*3, \n",
    "                 n_enc_layers:int = 15, num_heads:int = 3, \n",
    "                 forward_dim:int = 4, dropout_ratio: float = 0.2, \n",
    "                 n_classes:int = 1000):\n",
    "        super().__init__()\n",
    "\n",
    "\n",
    "        # ================ ToDo3 ================ #\n",
    "        self.image_emb = image_embedding(in_channel, img_size, patch_size, emb_dim)\n",
    "        self.transformer_encoders = nn.ModuleList([encoder_block(emb_dim, num_heads, forward_dim, dropout_ratio) for _ in range(n_enc_layers)])\n",
    "        # ======================================= #\n",
    "        \n",
    "        self.reduce_layer = Reduce('b n e -> b e', reduction='mean')\n",
    "        self.normalization = nn.LayerNorm(emb_dim)\n",
    "        self.classification_head = nn.Linear(emb_dim, n_classes) \n",
    "\n",
    "    def forward(self, x):\n",
    "        # ================ ToDo3 ================ #\n",
    "        # (1) image embedding\n",
    "        x = self.image_emb(x)\n",
    "\n",
    "        # (2) transformer_encoder\n",
    "        attentions = []\n",
    "        for encoder in self.transformer_encoders:\n",
    "            x, att = encoder(x)\n",
    "            attentions.append(att)\n",
    "        # ======================================= #\n",
    "\n",
    "        # classification head\n",
    "        x = self.reduce_layer(x)\n",
    "        x = self.normalization(x)\n",
    "        x = self.classification_head(x)\n",
    "\n",
    "        return x, attentions\n",
    "\n",
    "y, att = vision_transformer(1, 28, 4, 4*4, 3, 2, 4, 0.2, 10)(x)\n",
    "y.shape, att[0].shape"
   ]
  },
  {
   "cell_type": "code",
   "execution_count": 16,
   "metadata": {},
   "outputs": [],
   "source": [
    "model = vision_transformer(1, 28, 4, 4*4, 3, 2, 4, 0.2, 10)\n",
    "model.to(device)\n",
    "\n",
    "num_epochs = 10\n",
    "criterion = nn.CrossEntropyLoss()\n",
    "optimizer = optim.Adam(model.parameters(), lr=1e-3)\n",
    "\n",
    "batch_size = 64\n",
    "dataloaders_train = DataLoader(dataset_train, batch_size=batch_size, sampler=sampler.SubsetRandomSampler(range(0, len(dataset_train) * 4//5)))\n",
    "dataloaders_valid = DataLoader(dataset_train, batch_size=batch_size, sampler=sampler.SubsetRandomSampler(range(len(dataset_train) * 4//5, len(dataset_train))))\n",
    "dataloaders_test = DataLoader(dataset_test, batch_size=batch_size)"
   ]
  },
  {
   "cell_type": "code",
   "execution_count": 17,
   "metadata": {},
   "outputs": [
    {
     "name": "stdout",
     "output_type": "stream",
     "text": [
      "*** Epoch 0 ***\n",
      "train Loss: 82385.6141 Acc: 0.3666\n",
      "valid Acc: 0.6362\n",
      "\n",
      "*** Epoch 1 ***\n",
      "train Loss: 42538.1641 Acc: 0.7036\n",
      "valid Acc: 0.8018\n",
      "\n",
      "*** Epoch 2 ***\n",
      "train Loss: 30255.6351 Acc: 0.8026\n",
      "valid Acc: 0.8499\n",
      "\n",
      "*** Epoch 3 ***\n",
      "train Loss: 25218.1451 Acc: 0.8387\n",
      "valid Acc: 0.8779\n",
      "\n",
      "*** Epoch 4 ***\n",
      "train Loss: 22118.9168 Acc: 0.8574\n",
      "valid Acc: 0.8812\n",
      "\n",
      "*** Epoch 5 ***\n",
      "train Loss: 20125.0684 Acc: 0.8715\n",
      "valid Acc: 0.8989\n",
      "\n",
      "*** Epoch 6 ***\n",
      "train Loss: 18562.8572 Acc: 0.8806\n",
      "valid Acc: 0.9048\n",
      "\n",
      "*** Epoch 7 ***\n",
      "train Loss: 17421.9398 Acc: 0.8879\n",
      "valid Acc: 0.9126\n",
      "\n",
      "*** Epoch 8 ***\n",
      "train Loss: 16116.6607 Acc: 0.8973\n",
      "valid Acc: 0.9166\n",
      "\n",
      "*** Epoch 9 ***\n",
      "train Loss: 15220.0015 Acc: 0.9016\n",
      "valid Acc: 0.9193\n",
      "\n"
     ]
    }
   ],
   "source": [
    "for epoch in range(num_epochs):\n",
    "    print('*** Epoch {} ***'.format(epoch))\n",
    "\n",
    "    # Training\n",
    "    model.train()  \n",
    "    running_loss, running_acc = 0.0, 0.0\n",
    "        \n",
    "    for idx, (inputs, labels) in enumerate(dataloaders_train):\n",
    "      inputs = inputs.to(device)\n",
    "      labels = labels.to(device)\n",
    "\n",
    "      # zero the parameter gradients\n",
    "      optimizer.zero_grad()\n",
    "\n",
    "      # forward\n",
    "      with torch.set_grad_enabled(True):\n",
    "        outputs, _ = model(inputs)\n",
    "        _, preds = torch.max(outputs, 1)\n",
    "        loss = criterion(outputs, labels)\n",
    "\n",
    "        loss.backward()\n",
    "        optimizer.step()\n",
    "\n",
    "        # statistics\n",
    "        running_loss += loss.item() * inputs.shape[0]\n",
    "        running_acc += torch.sum(preds == labels.data)\n",
    "    running_acc /= (idx+1) * batch_size\n",
    "    print('{} Loss: {:.4f} Acc: {:.4f}'.format('train', running_loss, running_acc))\n",
    "\n",
    "    # Validation\n",
    "    model.eval()  \n",
    "    running_acc = 0.0\n",
    "        \n",
    "    for idx, (inputs, labels) in enumerate(dataloaders_valid):\n",
    "      inputs = inputs.to(device)\n",
    "      labels = labels.to(device)\n",
    "\n",
    "      with torch.set_grad_enabled(False):\n",
    "        outputs, _ = model(inputs)\n",
    "        _, preds = torch.max(outputs, 1)\n",
    "\n",
    "        # statistics\n",
    "        running_acc += torch.sum(preds == labels.data)\n",
    "    running_acc /= (idx+1) * batch_size\n",
    "    print('{} Acc: {:.4f}\\n'.format('valid', running_acc))"
   ]
  },
  {
   "cell_type": "code",
   "execution_count": 18,
   "metadata": {},
   "outputs": [
    {
     "name": "stdout",
     "output_type": "stream",
     "text": [
      "test Acc: 0.9226\n",
      "\n"
     ]
    }
   ],
   "source": [
    "model.eval()  \n",
    "running_acc = 0.0\n",
    "    \n",
    "for idx, (inputs, labels) in enumerate(dataloaders_test):\n",
    "  inputs = inputs.to(device)\n",
    "  labels = labels.to(device)\n",
    "\n",
    "  with torch.set_grad_enabled(False):\n",
    "    outputs, _ = model(inputs)\n",
    "    _, preds = torch.max(outputs, 1)\n",
    "\n",
    "    # statistics\n",
    "    running_acc += torch.sum(preds == labels.data)\n",
    "running_acc /= (idx+1) * batch_size\n",
    "print('{} Acc: {:.4f}\\n'.format('test', running_acc))"
   ]
  },
  {
   "cell_type": "code",
   "execution_count": 19,
   "metadata": {},
   "outputs": [
    {
     "data": {
      "image/png": "[encoded data removed]",
      "text/plain": [
       "<Figure size 648x216 with 3 Axes>"
      ]
     },
     "metadata": {
      "needs_background": "light"
     },
     "output_type": "display_data"
    },
    {
     "data": {
      "image/png": "[encoded data removed]",
      "text/plain": [
       "<Figure size 648x216 with 3 Axes>"
      ]
     },
     "metadata": {
      "needs_background": "light"
     },
     "output_type": "display_data"
    },
    {
     "data": {
      "image/png": "[encoded data removed]",
      "text/plain": [
       "<Figure size 648x216 with 3 Axes>"
      ]
     },
     "metadata": {
      "needs_background": "light"
     },
     "output_type": "display_data"
    },
    {
     "data": {
      "image/png": "[encoded data removed]",
      "text/plain": [
       "<Figure size 648x216 with 3 Axes>"
      ]
     },
     "metadata": {
      "needs_background": "light"
     },
     "output_type": "display_data"
    },
    {
     "data": {
      "image/png": "[encoded data removed]",
      "text/plain": [
       "<Figure size 648x216 with 3 Axes>"
      ]
     },
     "metadata": {
      "needs_background": "light"
     },
     "output_type": "display_data"
    }
   ],
   "source": [
    "idxs = np.random.choice(range(len(dataset_test.data)), 5, False)\n",
    "for idx in idxs:\n",
    "  img = dataset_test.data[idx]\n",
    "  img = 255 - img \n",
    "\n",
    "  _, attentions = model(img.unsqueeze(0).unsqueeze(1).to(device, torch.float))\n",
    "\n",
    "  # Average the attention weights across all heads.\n",
    "  att_mat = torch.stack(attentions).squeeze(1)\n",
    "  att_mat = att_mat.cpu().detach()\n",
    "  att_mat = reduce(att_mat, 'b h len1 len2 -> b len1 len2', 'mean')\n",
    "\n",
    "  residual_att = torch.eye(att_mat.size(1))\n",
    "  aug_att_mat = att_mat + residual_att\n",
    "  aug_att_mat = aug_att_mat / aug_att_mat.sum(dim=-1).unsqueeze(-1)\n",
    "\n",
    "  # Recursively multiply the weight matrices\n",
    "  joint_attentions = torch.zeros(aug_att_mat.size())\n",
    "  joint_attentions[0] = aug_att_mat[0]\n",
    "\n",
    "  for n in range(1, aug_att_mat.size(0)):\n",
    "      joint_attentions[n] = torch.matmul(aug_att_mat[n], joint_attentions[n-1])\n",
    "      \n",
    "  # Attention from the output token to the input space.\n",
    "  v = joint_attentions[-1]\n",
    "  grid_size = int(np.sqrt(aug_att_mat.size(-1)))\n",
    "  mask = v[0, 1:].reshape(grid_size, grid_size).detach().numpy()\n",
    "  mask = cv2.resize(mask / mask.max(), (img.shape[1], img.shape[0]))[..., np.newaxis]\n",
    "  mask = mask.squeeze()\n",
    "  result = (mask * img.numpy()).astype(\"uint8\")\n",
    "\n",
    "  # plotting\n",
    "  fig, (ax1, ax2, ax3) = plt.subplots(ncols=3, figsize=(9, 3)) \n",
    "  ax1.set_title('Original')\n",
    "  ax2.set_title('Mask')\n",
    "  ax3.set_title('Attention Map')\n",
    "  _ = ax1.imshow(img)\n",
    "  _ = ax2.imshow(mask)\n",
    "  _ = ax3.imshow(result)"
   ]
  }
 ],
 "metadata": {
  "interpreter": {
   "hash": "247ab06e135bb35fa78c5eff31b2a9a0050dcb5fb773c2631d2a29ac689eeccb"
  },
  "kernelspec": {
   "display_name": "Python 3.9.7 64-bit",
   "language": "python",
   "name": "python3"
  },
  "language_info": {
   "codemirror_mode": {
    "name": "ipython",
    "version": 3
   },
   "file_extension": ".py",
   "mimetype": "text/x-python",
   "name": "python",
   "nbconvert_exporter": "python",
   "pygments_lexer": "ipython3",
   "version": "3.9.7"
  },
  "orig_nbformat": 4
 },
 "nbformat": 4,
 "nbformat_minor": 2
}
